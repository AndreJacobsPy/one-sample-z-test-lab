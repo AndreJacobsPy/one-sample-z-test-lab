{
 "cells": [
  {
   "cell_type": "markdown",
   "metadata": {},
   "source": [
    "# One-Sample z-test - Lab\n",
    "\n",
    "## Introduction\n",
    "In this lab, you'll perform a few quick tests to help you better understand how hypothesis testing works.\n",
    "\n",
    "## Objectives\n",
    "You will be able to:\n",
    "\n",
    "* Explain use cases for a 1-sample z-test\n",
    "* Set up null and alternative hypotheses\n",
    "* Use the z-table and scipy methods to acquire the p value for a given z-score\n",
    "* Calculate and interpret p-value for significance of results\n",
    "\n",
    "## Exercise 1\n",
    "A fast-food chain claims that the mean time to order food at their restaurants is 60 seconds, with a standard deviation of 30 seconds. You decide to put this claim to the test and go to one of the restaurants to observe actual waiting times. You take a sample of 36 customers and find that the mean order time was 75 seconds. Does this finding provide enough evidence to contradict the fast food chain's claim of fast service?\n",
    "\n",
    "Follow the 5 steps shown in previous lesson and use $\\alpha$ = 0.05. "
   ]
  },
  {
   "cell_type": "code",
   "execution_count": 3,
   "metadata": {},
   "outputs": [],
   "source": [
    "# State your null and alternative hypotheses\n",
    "null = \"xbar = 60\"\n",
    "alternative = \"xbar > 60\""
   ]
  },
  {
   "cell_type": "code",
   "execution_count": 16,
   "metadata": {},
   "outputs": [
    {
     "name": "stdout",
     "output_type": "stream",
     "text": [
      "p = 0.0013498980316301035, z = 3.0\n"
     ]
    }
   ],
   "source": [
    "# Your solution here\n",
    "from scipy.stats import norm\n",
    "from numpy import sqrt\n",
    "\n",
    "critical_value = norm.ppf(0.975)\n",
    "mu, sd, xbar, n = (60, 30, 75, 36)\n",
    "z = (xbar - mu) / (sd/sqrt(n))\n",
    "pvalue = 1 - norm.cdf(z)\n",
    "\n",
    "print(f\"p = {pvalue}, z = {z}\")\n",
    "# (p = 0.0013498980316301035, z = 3.0)"
   ]
  },
  {
   "cell_type": "code",
   "execution_count": 23,
   "metadata": {},
   "outputs": [
    {
     "data": {
      "image/png": "[encoded data removed]",
      "text/plain": [
       "<Figure size 460.8x403.2 with 1 Axes>"
      ]
     },
     "metadata": {},
     "output_type": "display_data"
    }
   ],
   "source": [
    "import matplotlib.pyplot as plt\n",
    "import jupyterthemes as jt\n",
    "from numpy import linspace\n",
    "\n",
    "jt.jtplot.style(theme=\"chesterish\")\n",
    "x = linspace(-4, 4)\n",
    "y = norm.pdf(x)\n",
    "plt.plot(x, y)\n",
    "plt.axvline(critical_value, color=\"white\", linestyle=\"--\")\n",
    "plt.axvline(z, color=\"red\")\n",
    "plt.tight_layout()"
   ]
  },
  {
   "cell_type": "code",
   "execution_count": 24,
   "metadata": {},
   "outputs": [
    {
     "name": "stdout",
     "output_type": "stream",
     "text": [
      "I reject the null hypothesis saying the resturaunt's claim of service time = 60 seconds\n"
     ]
    }
   ],
   "source": [
    "# Interpret the results in terms of the p-value\n",
    "print(\"I reject the null hypothesis saying the resturaunt's claim of service time = 60 seconds\")"
   ]
  },
  {
   "cell_type": "markdown",
   "metadata": {},
   "source": [
    "## Exercise 2\n",
    "\n",
    "25 students complete a preparation program for taking the SAT test.  Here are the SAT scores from the 25 students who completed the program:\n",
    "\n",
    "``\n",
    "434 694 457 534 720 400 484 478 610 641 425 636 454 \n",
    "514 563 370 499 640 501 625 612 471 598 509 531\n",
    "``\n",
    "\n",
    "We know that the population average for SAT scores is 500 with a standard deviation of 100.\n",
    "\n",
    "Are our 25 students’ SAT scores significantly higher than the population's mean score? \n",
    "\n",
    "*Note that the SAT preparation program claims that it will increase (and not decrease) the SAT score.  So, you can conduct a one-directional test. (alpha = .05).*"
   ]
  },
  {
   "cell_type": "code",
   "execution_count": 18,
   "metadata": {},
   "outputs": [],
   "source": [
    "# State your hypotheses \n",
    "null = \"program average = 500\"\n",
    "alternative = \"program avergae > 500\""
   ]
  },
  {
   "cell_type": "code",
   "execution_count": 26,
   "metadata": {},
   "outputs": [
    {
     "name": "stdout",
     "output_type": "stream",
     "text": [
      "p = 0.03593031911292577, z = 1.8\n"
     ]
    }
   ],
   "source": [
    "from numpy import array\n",
    "# Give your solution here \n",
    "mu, sd = (500, 100)\n",
    "data = array([\n",
    "    434, 694, 457, 534, 720, 400, 484, 478, 610, 641, 425, 636, 454, \n",
    "    514, 563, 370, 499, 640, 501, 625, 612, 471, 598, 509, 531\n",
    "])\n",
    "xbar, n = (data.mean(), data.size)\n",
    "z = (xbar - mu) / (sd / sqrt(n))\n",
    "pvalue = 1 - norm.cdf(z)\n",
    "\n",
    "print(f\"p = {pvalue}, z = {z}\")\n",
    "# p = 0.03593031911292577, z = 1.8"
   ]
  },
  {
   "cell_type": "code",
   "execution_count": 28,
   "metadata": {},
   "outputs": [
    {
     "name": "stdout",
     "output_type": "stream",
     "text": [
      "the test prep company claim is valid and there is evidence to show that their mean is greater than population mean\n"
     ]
    }
   ],
   "source": [
    "# Interpret the results in terms of the p-value\n",
    "print(\n",
    "    \"the test prep company claim is valid and there is evidence to show that their mean\" +\n",
    "    \" is greater than population mean\"\n",
    ")"
   ]
  },
  {
   "cell_type": "markdown",
   "metadata": {},
   "source": [
    "## Summary\n",
    "\n",
    "In this lesson, you conducted a couple of simple tests comparing sample and population means, in an attempt to reject our null hypotheses. This provides you with a strong foundation to move ahead with more advanced tests and approaches later on."
   ]
  }
 ],
 "metadata": {
  "kernelspec": {
   "display_name": "Python 3",
   "language": "python",
   "name": "python3"
  },
  "language_info": {
   "codemirror_mode": {
    "name": "ipython",
    "version": 3
   },
   "file_extension": ".py",
   "mimetype": "text/x-python",
   "name": "python",
   "nbconvert_exporter": "python",
   "pygments_lexer": "ipython3",
   "version": "3.8.5"
  },
  "toc": {
   "base_numbering": 1,
   "nav_menu": {},
   "number_sections": true,
   "sideBar": true,
   "skip_h1_title": false,
   "title_cell": "Table of Contents",
   "title_sidebar": "Contents",
   "toc_cell": false,
   "toc_position": {},
   "toc_section_display": true,
   "toc_window_display": false
  }
 },
 "nbformat": 4,
 "nbformat_minor": 2
}
